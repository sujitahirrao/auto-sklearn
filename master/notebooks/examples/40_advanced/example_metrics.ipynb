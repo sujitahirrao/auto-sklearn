{
  "cells": [
    {
      "cell_type": "code",
      "execution_count": null,
      "metadata": {
        "collapsed": false
      },
      "outputs": [],
      "source": [
        "%matplotlib inline"
      ]
    },
    {
      "cell_type": "markdown",
      "metadata": {},
      "source": [
        "\n# Metrics\n\n*Auto-sklearn* supports various built-in metrics, which can be found in the\n`metrics section in the API <api:Built-in Metrics>`. However, it is also\npossible to define your own metric and use it to fit and evaluate your model.\nThe following examples show how to use built-in and self-defined metrics for a\nclassification problem.\n"
      ]
    },
    {
      "cell_type": "code",
      "execution_count": null,
      "metadata": {
        "collapsed": false
      },
      "outputs": [],
      "source": [
        "import numpy as np\n\nimport sklearn.model_selection\nimport sklearn.datasets\nimport sklearn.metrics\n\nimport autosklearn.classification\nimport autosklearn.metrics"
      ]
    },
    {
      "cell_type": "markdown",
      "metadata": {},
      "source": [
        "## Custom Metrics\n\n"
      ]
    },
    {
      "cell_type": "code",
      "execution_count": null,
      "metadata": {
        "collapsed": false
      },
      "outputs": [],
      "source": [
        "def accuracy(solution, prediction):\n    # custom function defining accuracy\n    return np.mean(solution == prediction)\n\n\ndef error(solution, prediction):\n    # custom function defining error\n    return np.mean(solution != prediction)\n\n\ndef accuracy_wk(solution, prediction, dummy):\n    # custom function defining accuracy and accepting an additional argument\n    assert dummy is None\n    return np.mean(solution == prediction)\n\n\ndef error_wk(solution, prediction, dummy):\n    # custom function defining error and accepting an additional argument\n    assert dummy is None\n    return np.mean(solution != prediction)"
      ]
    },
    {
      "cell_type": "markdown",
      "metadata": {},
      "source": [
        "## Data Loading\n\n"
      ]
    },
    {
      "cell_type": "code",
      "execution_count": null,
      "metadata": {
        "collapsed": false
      },
      "outputs": [],
      "source": [
        "X, y = sklearn.datasets.load_breast_cancer(return_X_y=True)\nX_train, X_test, y_train, y_test = \\\n    sklearn.model_selection.train_test_split(X, y, random_state=1)"
      ]
    },
    {
      "cell_type": "markdown",
      "metadata": {},
      "source": [
        "## Print a list of available metrics\n\n"
      ]
    },
    {
      "cell_type": "code",
      "execution_count": null,
      "metadata": {
        "collapsed": false
      },
      "outputs": [],
      "source": [
        "print(\"Available CLASSIFICATION metrics autosklearn.metrics.*:\")\nprint(\"\\t*\" + \"\\n\\t*\".join(autosklearn.metrics.CLASSIFICATION_METRICS))\n\nprint(\"Available REGRESSION autosklearn.metrics.*:\")\nprint(\"\\t*\" + \"\\n\\t*\".join(autosklearn.metrics.REGRESSION_METRICS))"
      ]
    },
    {
      "cell_type": "markdown",
      "metadata": {},
      "source": [
        "## First example: Use predefined accuracy metric\n\n"
      ]
    },
    {
      "cell_type": "code",
      "execution_count": null,
      "metadata": {
        "collapsed": false
      },
      "outputs": [],
      "source": [
        "print(\"#\"*80)\nprint(\"Use predefined accuracy metric\")\ncls = autosklearn.classification.AutoSklearnClassifier(\n    time_left_for_this_task=60,\n    per_run_time_limit=30,\n    seed=1,\n    metric=autosklearn.metrics.accuracy,\n)\ncls.fit(X_train, y_train)\n\npredictions = cls.predict(X_test)\nprint(\"Accuracy score {:g} using {:s}\".\n      format(sklearn.metrics.accuracy_score(y_test, predictions),\n             cls.automl_._metric.name))"
      ]
    },
    {
      "cell_type": "markdown",
      "metadata": {},
      "source": [
        "## Second example: Use own accuracy metric\n\n"
      ]
    },
    {
      "cell_type": "code",
      "execution_count": null,
      "metadata": {
        "collapsed": false
      },
      "outputs": [],
      "source": [
        "print(\"#\"*80)\nprint(\"Use self defined accuracy metric\")\naccuracy_scorer = autosklearn.metrics.make_scorer(\n    name=\"accu\",\n    score_func=accuracy,\n    optimum=1,\n    greater_is_better=True,\n    needs_proba=False,\n    needs_threshold=False,\n)\ncls = autosklearn.classification.AutoSklearnClassifier(\n    time_left_for_this_task=60,\n    per_run_time_limit=30,\n    seed=1,\n    metric=accuracy_scorer,\n)\ncls.fit(X_train, y_train)\n\npredictions = cls.predict(X_test)\nprint(\"Accuracy score {:g} using {:s}\".\n      format(sklearn.metrics.accuracy_score(y_test, predictions),\n             cls.automl_._metric.name))\n\nprint(\"#\"*80)\nprint(\"Use self defined error metric\")\nerror_rate = autosklearn.metrics.make_scorer(\n    name='error',\n    score_func=error,\n    optimum=0,\n    greater_is_better=False,\n    needs_proba=False,\n    needs_threshold=False\n)\ncls = autosklearn.classification.AutoSklearnClassifier(\n    time_left_for_this_task=60,\n    per_run_time_limit=30,\n    seed=1,\n    metric=error_rate,\n)\ncls.fit(X_train, y_train)\n\ncls.predictions = cls.predict(X_test)\nprint(\"Error rate {:g} using {:s}\".\n      format(error_rate(y_test, predictions),\n             cls.automl_._metric.name))"
      ]
    },
    {
      "cell_type": "markdown",
      "metadata": {},
      "source": [
        "## Third example: Use own accuracy metric with additional argument\n\n"
      ]
    },
    {
      "cell_type": "code",
      "execution_count": null,
      "metadata": {
        "collapsed": false
      },
      "outputs": [],
      "source": [
        "print(\"#\"*80)\nprint(\"Use self defined accuracy with additional argument\")\naccuracy_scorer = autosklearn.metrics.make_scorer(\n    name=\"accu_add\",\n    score_func=accuracy_wk,\n    optimum=1,\n    greater_is_better=True,\n    needs_proba=False,\n    needs_threshold=False,\n    dummy=None,\n)\ncls = autosklearn.classification.AutoSklearnClassifier(\n    time_left_for_this_task=60,\n    per_run_time_limit=30,\n    seed=1,\n    metric=accuracy_scorer\n)\ncls.fit(X_train, y_train)\n\npredictions = cls.predict(X_test)\nprint(\n    \"Accuracy score {:g} using {:s}\".format(\n        sklearn.metrics.accuracy_score(y_test, predictions),\n        cls.automl_._metric.name\n    )\n)\n\nprint(\"#\"*80)\nprint(\"Use self defined error with additional argument\")\nerror_rate = autosklearn.metrics.make_scorer(\n    name=\"error_add\",\n    score_func=error_wk,\n    optimum=0,\n    greater_is_better=True,\n    needs_proba=False,\n    needs_threshold=False,\n    dummy=None,\n)\ncls = autosklearn.classification.AutoSklearnClassifier(\n    time_left_for_this_task=60,\n    per_run_time_limit=30,\n    seed=1,\n    metric=error_rate,\n)\ncls.fit(X_train, y_train)\n\npredictions = cls.predict(X_test)\nprint(\n    \"Error rate {:g} using {:s}\".format(\n        error_rate(y_test, predictions),\n        cls.automl_._metric.name\n    )\n)"
      ]
    }
  ],
  "metadata": {
    "kernelspec": {
      "display_name": "Python 3",
      "language": "python",
      "name": "python3"
    },
    "language_info": {
      "codemirror_mode": {
        "name": "ipython",
        "version": 3
      },
      "file_extension": ".py",
      "mimetype": "text/x-python",
      "name": "python",
      "nbconvert_exporter": "python",
      "pygments_lexer": "ipython3",
      "version": "3.8.10"
    }
  },
  "nbformat": 4,
  "nbformat_minor": 0
}